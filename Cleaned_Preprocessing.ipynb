{
 "cells": [
  {
   "cell_type": "code",
   "execution_count": 13,
   "metadata": {},
   "outputs": [],
   "source": [
    "import os\n",
    "import skimage.io\n",
    "import cv2\n",
    "import numpy as np"
   ]
  },
  {
   "cell_type": "code",
   "execution_count": 14,
   "metadata": {},
   "outputs": [],
   "source": [
    "DATADIR = \"D:\\BPUT\\Seventh Sem\\Final Year Projects\\Dataset\\images\\Train\"\n",
    "\n",
    "def separate_channel(img_rgb):\n",
    "    img_lab = skimage.color.rgb2lab(img_rgb)\n",
    "    l, a, b = cv2.split(img_lab)\n",
    "    return l,a,b\n",
    "#print(os.listdir(DATADIR))"
   ]
  },
  {
   "cell_type": "code",
   "execution_count": 17,
   "metadata": {},
   "outputs": [],
   "source": [
    "l_list = []\n",
    "ab_list = []\n",
    "\n",
    "for imgs in os.listdir(DATADIR):\n",
    "    img = skimage.io.imread(os.path.join(DATADIR,imgs))\n",
    "    #img_list.append(img)\n",
    "    l1,a1,b1 = separate_channel(img)\n",
    "    l_list.append(l1)\n",
    "    ab_list.append(np.vstack(([a1.T], [b1.T])).T)\n",
    "    #no_of_img = no_of_img+1"
   ]
  },
  {
   "cell_type": "code",
   "execution_count": 20,
   "metadata": {},
   "outputs": [],
   "source": [
    "l_list = np.array(l_list)\n",
    "ab_array = np.array(ab_list)\n"
   ]
  },
  {
   "cell_type": "code",
   "execution_count": 21,
   "metadata": {},
   "outputs": [
    {
     "name": "stdout",
     "output_type": "stream",
     "text": [
      "(9294, 256, 256, 2) (9294, 256, 256)\n"
     ]
    }
   ],
   "source": [
    "print(ab_array.shape, l_list.shape)"
   ]
  },
  {
   "cell_type": "code",
   "execution_count": 22,
   "metadata": {},
   "outputs": [],
   "source": [
    "del ab_list"
   ]
  },
  {
   "cell_type": "code",
   "execution_count": 23,
   "metadata": {},
   "outputs": [],
   "source": [
    "l_list = l_list.reshape(-1,256,256,1)"
   ]
  },
  {
   "cell_type": "code",
   "execution_count": 25,
   "metadata": {},
   "outputs": [],
   "source": [
    "np.save(\"D:\\BPUT\\Seventh Sem\\Final Year Projects\\Dataset\\X\",l_list)"
   ]
  },
  {
   "cell_type": "code",
   "execution_count": 26,
   "metadata": {},
   "outputs": [],
   "source": [
    "del l_list"
   ]
  },
  {
   "cell_type": "code",
   "execution_count": 27,
   "metadata": {},
   "outputs": [],
   "source": [
    "np.save(\"D:\\BPUT\\Seventh Sem\\Final Year Projects\\Dataset\\y\",ab_array)"
   ]
  },
  {
   "cell_type": "code",
   "execution_count": 28,
   "metadata": {},
   "outputs": [],
   "source": [
    "del ab_array"
   ]
  },
  {
   "cell_type": "code",
   "execution_count": null,
   "metadata": {},
   "outputs": [],
   "source": []
  }
 ],
 "metadata": {
  "kernelspec": {
   "display_name": "Python 3",
   "language": "python",
   "name": "python3"
  },
  "language_info": {
   "codemirror_mode": {
    "name": "ipython",
    "version": 3
   },
   "file_extension": ".py",
   "mimetype": "text/x-python",
   "name": "python",
   "nbconvert_exporter": "python",
   "pygments_lexer": "ipython3",
   "version": "3.6.6"
  }
 },
 "nbformat": 4,
 "nbformat_minor": 2
}
