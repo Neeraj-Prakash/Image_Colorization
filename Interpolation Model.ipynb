{
 "cells": [
  {
   "cell_type": "markdown",
   "metadata": {
    "colab_type": "text",
    "id": "view-in-github"
   },
   "source": [
    "<a href=\"https://colab.research.google.com/github/Tyagi-S/Image_Colorization/blob/master/CNN_Model.ipynb\" target=\"_parent\"><img src=\"https://colab.research.google.com/assets/colab-badge.svg\" alt=\"Open In Colab\"/></a>"
   ]
  },
  {
   "cell_type": "code",
   "execution_count": 1,
   "metadata": {
    "colab": {
     "base_uri": "https://localhost:8080/",
     "height": 129
    },
    "colab_type": "code",
    "id": "BrRfZXQZSOPJ",
    "outputId": "2587e81d-4c12-410f-a109-458a05df026f"
   },
   "outputs": [
    {
     "name": "stdout",
     "output_type": "stream",
     "text": [
      "Go to this URL in a browser: https://accounts.google.com/o/oauth2/auth?client_id=947318989803-6bn6qk8qdgf4n4g3pfee6491hc0brc4i.apps.googleusercontent.com&redirect_uri=urn%3Aietf%3Awg%3Aoauth%3A2.0%3Aoob&scope=email%20https%3A%2F%2Fwww.googleapis.com%2Fauth%2Fdocs.test%20https%3A%2F%2Fwww.googleapis.com%2Fauth%2Fdrive%20https%3A%2F%2Fwww.googleapis.com%2Fauth%2Fdrive.photos.readonly%20https%3A%2F%2Fwww.googleapis.com%2Fauth%2Fpeopleapi.readonly&response_type=code\n",
      "\n",
      "Enter your authorization code:\n",
      "··········\n",
      "Mounted at /content/drive/\n"
     ]
    }
   ],
   "source": [
    "from google.colab import drive\n",
    "drive.mount('/content/drive/')"
   ]
  },
  {
   "cell_type": "code",
   "execution_count": 0,
   "metadata": {
    "colab": {},
    "colab_type": "code",
    "id": "dSWkVj9VSeOU"
   },
   "outputs": [],
   "source": [
    "!pip install -q keras"
   ]
  },
  {
   "cell_type": "code",
   "execution_count": 4,
   "metadata": {
    "colab": {
     "base_uri": "https://localhost:8080/",
     "height": 544
    },
    "colab_type": "code",
    "id": "_8hb2zkOS5_O",
    "outputId": "0a7403f9-bfa8-4076-902d-4895dc086709"
   },
   "outputs": [
    {
     "name": "stderr",
     "output_type": "stream",
     "text": [
      "Using TensorFlow backend.\n"
     ]
    },
    {
     "data": {
      "text/html": [
       "<p style=\"color: red;\">\n",
       "The default version of TensorFlow in Colab will soon switch to TensorFlow 2.x.<br>\n",
       "We recommend you <a href=\"https://www.tensorflow.org/guide/migrate\" target=\"_blank\">upgrade</a> now \n",
       "or ensure your notebook will continue to use TensorFlow 1.x via the <code>%tensorflow_version 1.x</code> magic:\n",
       "<a href=\"https://colab.research.google.com/notebooks/tensorflow_version.ipynb\" target=\"_blank\">more info</a>.</p>\n"
      ],
      "text/plain": [
       "<IPython.core.display.HTML object>"
      ]
     },
     "metadata": {
      "tags": []
     },
     "output_type": "display_data"
    },
    {
     "name": "stdout",
     "output_type": "stream",
     "text": [
      "WARNING:tensorflow:From /usr/local/lib/python3.6/dist-packages/keras/backend/tensorflow_backend.py:541: The name tf.placeholder is deprecated. Please use tf.compat.v1.placeholder instead.\n",
      "\n",
      "WARNING:tensorflow:From /usr/local/lib/python3.6/dist-packages/keras/backend/tensorflow_backend.py:4432: The name tf.random_uniform is deprecated. Please use tf.random.uniform instead.\n",
      "\n",
      "WARNING:tensorflow:From /usr/local/lib/python3.6/dist-packages/keras/backend/tensorflow_backend.py:66: The name tf.get_default_graph is deprecated. Please use tf.compat.v1.get_default_graph instead.\n",
      "\n",
      "WARNING:tensorflow:From /usr/local/lib/python3.6/dist-packages/keras/backend/tensorflow_backend.py:190: The name tf.get_default_session is deprecated. Please use tf.compat.v1.get_default_session instead.\n",
      "\n",
      "WARNING:tensorflow:From /usr/local/lib/python3.6/dist-packages/keras/backend/tensorflow_backend.py:197: The name tf.ConfigProto is deprecated. Please use tf.compat.v1.ConfigProto instead.\n",
      "\n",
      "WARNING:tensorflow:From /usr/local/lib/python3.6/dist-packages/keras/backend/tensorflow_backend.py:203: The name tf.Session is deprecated. Please use tf.compat.v1.Session instead.\n",
      "\n",
      "WARNING:tensorflow:From /usr/local/lib/python3.6/dist-packages/keras/backend/tensorflow_backend.py:207: The name tf.global_variables is deprecated. Please use tf.compat.v1.global_variables instead.\n",
      "\n",
      "WARNING:tensorflow:From /usr/local/lib/python3.6/dist-packages/keras/backend/tensorflow_backend.py:216: The name tf.is_variable_initialized is deprecated. Please use tf.compat.v1.is_variable_initialized instead.\n",
      "\n",
      "WARNING:tensorflow:From /usr/local/lib/python3.6/dist-packages/keras/backend/tensorflow_backend.py:223: The name tf.variables_initializer is deprecated. Please use tf.compat.v1.variables_initializer instead.\n",
      "\n",
      "WARNING:tensorflow:From /usr/local/lib/python3.6/dist-packages/keras/backend/tensorflow_backend.py:2041: The name tf.nn.fused_batch_norm is deprecated. Please use tf.compat.v1.nn.fused_batch_norm instead.\n",
      "\n",
      "WARNING:tensorflow:From /usr/local/lib/python3.6/dist-packages/keras/backend/tensorflow_backend.py:148: The name tf.placeholder_with_default is deprecated. Please use tf.compat.v1.placeholder_with_default instead.\n",
      "\n",
      "WARNING:tensorflow:From /usr/local/lib/python3.6/dist-packages/keras/optimizers.py:793: The name tf.train.Optimizer is deprecated. Please use tf.compat.v1.train.Optimizer instead.\n",
      "\n"
     ]
    }
   ],
   "source": [
    "import warnings\n",
    "warnings.filterwarnings(\"ignore\")\n",
    "import pickle\n",
    "import keras \n",
    "from keras.models import Sequential\n",
    "from keras.layers import Dense, UpSampling2D, BatchNormalization, Activation, Flatten, Conv2D, Conv2DTranspose\n",
    "from keras.layers.advanced_activations import LeakyReLU\n",
    "from keras.utils import plot_model\n",
    "from keras.optimizers import Adam\n",
    "import numpy as np\n",
    "\n",
    "X = np.load('drive/My Drive/app/X.npy')\n",
    "\n",
    "y = np.load('drive/My Drive/app/y.npy')\n",
    "\n",
    "model = Sequential(name= 'colorizer')\n",
    "\n",
    "\n",
    "#conv1\n",
    "model.add(Conv2D(64,(3,3), input_shape=(128,128,1), strides=2, padding='same', use_bias=True, name='L1Conv1'))\n",
    "model.add(Activation(\"relu\"))\n",
    "model.add(Conv2D(64, (3,3), strides=1, padding='same', use_bias=True, name='L1Conv2'))\n",
    "model.add(BatchNormalization())\n",
    "model.add(Activation(\"relu\"))\n",
    "\n",
    "\n",
    "#conv2\n",
    "model.add(Conv2D(128, (3,3), strides=2, padding='same', use_bias=True, name='L2Conv1'))\n",
    "model.add(Activation(\"relu\"))\n",
    "model.add(Conv2D(128, (3,3), strides=1, padding='same', use_bias=True, name='L2Conv2'))\n",
    "model.add(BatchNormalization())\n",
    "model.add(Activation(\"relu\"))\n",
    "\n",
    "          \n",
    "#conv3\n",
    "model.add(Conv2D(256, (3,3), strides=2, padding='same', use_bias=True, name='L3Conv1'))\n",
    "model.add(Activation(\"relu\"))\n",
    "model.add(Conv2D(256, (3,3), strides=1, padding='same', use_bias=True, name='L3Conv2'))\n",
    "model.add(Activation(\"relu\"))\n",
    "model.add(Conv2D(256, (3,3), strides=1, padding='same', use_bias=True, name='L3Conv3'))\n",
    "model.add(BatchNormalization())\n",
    "model.add(Activation(\"relu\"))\n",
    "\n",
    "          \n",
    "#conv4\n",
    "model.add(Conv2D(512, (3,3), strides=1, padding='same', use_bias=True, name='L4Conv1'))\n",
    "model.add(Activation(\"relu\"))\n",
    "model.add(Conv2D(512, (3,3), strides=1, padding='same', use_bias=True, name='L4Conv2'))\n",
    "model.add(Activation(\"relu\"))\n",
    "model.add(Conv2D(512, (3,3), strides=1, padding='same', use_bias=True, name='L4Conv3'))\n",
    "model.add(BatchNormalization())\n",
    "model.add(Activation(\"relu\"))\n",
    "\n",
    "\n",
    "#conv5\n",
    "model.add(Conv2D(512, (3,3), dilation_rate=2, strides=1, padding='same', use_bias=True, name='L5Conv1'))\n",
    "model.add(Activation(\"relu\"))\n",
    "model.add(Conv2D(512, (3,3), dilation_rate=2, strides=1, padding='same', use_bias=True, name='L5Conv2'))\n",
    "model.add(Activation(\"relu\"))\n",
    "model.add(Conv2D(512, (3,3), dilation_rate=2,  strides=1, padding='same', use_bias=True, name='L5Conv3'))\n",
    "model.add(BatchNormalization())\n",
    "model.add(Activation(\"relu\"))\n",
    "\n",
    "\n",
    "#conv6\n",
    "model.add(Conv2DTranspose(256, (4,4), strides=2, padding='same', use_bias=True, name='L8ConvTr1'))\n",
    "model.add(Activation(\"relu\"))\n",
    "\n",
    "model.add(Conv2D(256, (3,3), strides=1, padding='same', use_bias=True, name='L8Conv2'))\n",
    "model.add(Activation(\"relu\"))\n",
    "model.add(Conv2D(256, (3,3), strides=1, padding='same', use_bias=True, name='L8Conv3'))\n",
    "model.add(BatchNormalization())\n",
    "model.add(Activation(\"relu\"))\n",
    "\n",
    "          \n",
    "#conv7\n",
    "model.add(Conv2DTranspose(128, (4,4), strides=2, padding='same', use_bias=True, name='L9ConvTr1'))\n",
    "model.add(Activation(\"relu\"))\n",
    "\n",
    "model.add(Conv2D(128, (3,3), strides=1, padding='same', use_bias=True, name='L9Conv2'))\n",
    "model.add(BatchNormalization())\n",
    "model.add(Activation(\"relu\"))\n",
    "\n",
    "\n",
    "#conv8\n",
    "model.add(Conv2DTranspose(128, (4,4), strides=2, padding='same', use_bias=True, name='L10ConvTr1'))\n",
    "model.add(Activation(\"relu\"))\n",
    "model.add(Conv2D(128, (3,3), dilation_rate=1, strides=1, padding='same', use_bias=True, name='L10Conv2'))\n",
    "\n",
    "model.add(BatchNormalization())\n",
    "#model.add(Activation(LeakyReLU(alpha=0.2)))\n",
    "model.add(LeakyReLU(alpha=0.2))\n",
    " \n",
    "          \n",
    "model.add(Conv2D(2,(1,1), strides=1, padding='same', dilation_rate=1, use_bias=True, name='OutputLayer'))\n",
    "\n",
    "model.compile(loss='mean_squared_error',\n",
    "             optimizer=Adam(lr=0.01),\n",
    "             metrics=['accuracy'])"
   ]
  },
  {
   "cell_type": "code",
   "execution_count": 5,
   "metadata": {
    "colab": {
     "base_uri": "https://localhost:8080/",
     "height": 1000
    },
    "colab_type": "code",
    "id": "GDmTkC7RUF-V",
    "outputId": "ee5091b6-cbbc-4d69-c32a-b4ea8684729c"
   },
   "outputs": [
    {
     "name": "stdout",
     "output_type": "stream",
     "text": [
      "Model: \"colorizer\"\n",
      "_________________________________________________________________\n",
      "Layer (type)                 Output Shape              Param #   \n",
      "=================================================================\n",
      "L1Conv1 (Conv2D)             (None, 64, 64, 64)        640       \n",
      "_________________________________________________________________\n",
      "activation_1 (Activation)    (None, 64, 64, 64)        0         \n",
      "_________________________________________________________________\n",
      "L1Conv2 (Conv2D)             (None, 64, 64, 64)        36928     \n",
      "_________________________________________________________________\n",
      "batch_normalization_1 (Batch (None, 64, 64, 64)        256       \n",
      "_________________________________________________________________\n",
      "activation_2 (Activation)    (None, 64, 64, 64)        0         \n",
      "_________________________________________________________________\n",
      "L2Conv1 (Conv2D)             (None, 32, 32, 128)       73856     \n",
      "_________________________________________________________________\n",
      "activation_3 (Activation)    (None, 32, 32, 128)       0         \n",
      "_________________________________________________________________\n",
      "L2Conv2 (Conv2D)             (None, 32, 32, 128)       147584    \n",
      "_________________________________________________________________\n",
      "batch_normalization_2 (Batch (None, 32, 32, 128)       512       \n",
      "_________________________________________________________________\n",
      "activation_4 (Activation)    (None, 32, 32, 128)       0         \n",
      "_________________________________________________________________\n",
      "L3Conv1 (Conv2D)             (None, 16, 16, 256)       295168    \n",
      "_________________________________________________________________\n",
      "activation_5 (Activation)    (None, 16, 16, 256)       0         \n",
      "_________________________________________________________________\n",
      "L3Conv2 (Conv2D)             (None, 16, 16, 256)       590080    \n",
      "_________________________________________________________________\n",
      "activation_6 (Activation)    (None, 16, 16, 256)       0         \n",
      "_________________________________________________________________\n",
      "L3Conv3 (Conv2D)             (None, 16, 16, 256)       590080    \n",
      "_________________________________________________________________\n",
      "batch_normalization_3 (Batch (None, 16, 16, 256)       1024      \n",
      "_________________________________________________________________\n",
      "activation_7 (Activation)    (None, 16, 16, 256)       0         \n",
      "_________________________________________________________________\n",
      "L4Conv1 (Conv2D)             (None, 16, 16, 512)       1180160   \n",
      "_________________________________________________________________\n",
      "activation_8 (Activation)    (None, 16, 16, 512)       0         \n",
      "_________________________________________________________________\n",
      "L4Conv2 (Conv2D)             (None, 16, 16, 512)       2359808   \n",
      "_________________________________________________________________\n",
      "activation_9 (Activation)    (None, 16, 16, 512)       0         \n",
      "_________________________________________________________________\n",
      "L4Conv3 (Conv2D)             (None, 16, 16, 512)       2359808   \n",
      "_________________________________________________________________\n",
      "batch_normalization_4 (Batch (None, 16, 16, 512)       2048      \n",
      "_________________________________________________________________\n",
      "activation_10 (Activation)   (None, 16, 16, 512)       0         \n",
      "_________________________________________________________________\n",
      "L5Conv1 (Conv2D)             (None, 16, 16, 512)       2359808   \n",
      "_________________________________________________________________\n",
      "activation_11 (Activation)   (None, 16, 16, 512)       0         \n",
      "_________________________________________________________________\n",
      "L5Conv2 (Conv2D)             (None, 16, 16, 512)       2359808   \n",
      "_________________________________________________________________\n",
      "activation_12 (Activation)   (None, 16, 16, 512)       0         \n",
      "_________________________________________________________________\n",
      "L5Conv3 (Conv2D)             (None, 16, 16, 512)       2359808   \n",
      "_________________________________________________________________\n",
      "batch_normalization_5 (Batch (None, 16, 16, 512)       2048      \n",
      "_________________________________________________________________\n",
      "activation_13 (Activation)   (None, 16, 16, 512)       0         \n",
      "_________________________________________________________________\n",
      "L8ConvTr1 (Conv2DTranspose)  (None, 32, 32, 256)       2097408   \n",
      "_________________________________________________________________\n",
      "activation_14 (Activation)   (None, 32, 32, 256)       0         \n",
      "_________________________________________________________________\n",
      "L8Conv2 (Conv2D)             (None, 32, 32, 256)       590080    \n",
      "_________________________________________________________________\n",
      "activation_15 (Activation)   (None, 32, 32, 256)       0         \n",
      "_________________________________________________________________\n",
      "L8Conv3 (Conv2D)             (None, 32, 32, 256)       590080    \n",
      "_________________________________________________________________\n",
      "batch_normalization_6 (Batch (None, 32, 32, 256)       1024      \n",
      "_________________________________________________________________\n",
      "activation_16 (Activation)   (None, 32, 32, 256)       0         \n",
      "_________________________________________________________________\n",
      "L9ConvTr1 (Conv2DTranspose)  (None, 64, 64, 128)       524416    \n",
      "_________________________________________________________________\n",
      "activation_17 (Activation)   (None, 64, 64, 128)       0         \n",
      "_________________________________________________________________\n",
      "L9Conv2 (Conv2D)             (None, 64, 64, 128)       147584    \n",
      "_________________________________________________________________\n",
      "batch_normalization_7 (Batch (None, 64, 64, 128)       512       \n",
      "_________________________________________________________________\n",
      "activation_18 (Activation)   (None, 64, 64, 128)       0         \n",
      "_________________________________________________________________\n",
      "L10ConvTr1 (Conv2DTranspose) (None, 128, 128, 128)     262272    \n",
      "_________________________________________________________________\n",
      "activation_19 (Activation)   (None, 128, 128, 128)     0         \n",
      "_________________________________________________________________\n",
      "L10Conv2 (Conv2D)            (None, 128, 128, 128)     147584    \n",
      "_________________________________________________________________\n",
      "batch_normalization_8 (Batch (None, 128, 128, 128)     512       \n",
      "_________________________________________________________________\n",
      "leaky_re_lu_1 (LeakyReLU)    (None, 128, 128, 128)     0         \n",
      "_________________________________________________________________\n",
      "OutputLayer (Conv2D)         (None, 128, 128, 2)       258       \n",
      "=================================================================\n",
      "Total params: 19,081,154\n",
      "Trainable params: 19,077,186\n",
      "Non-trainable params: 3,968\n",
      "_________________________________________________________________\n"
     ]
    }
   ],
   "source": [
    "model.summary()"
   ]
  },
  {
   "cell_type": "code",
   "execution_count": 0,
   "metadata": {
    "colab": {
     "base_uri": "https://localhost:8080/",
     "height": 1000
    },
    "colab_type": "code",
    "id": "nYY5pH6LT_9Z",
    "outputId": "fa349410-17fb-42a6-c214-e319bcf443e4"
   },
   "outputs": [
    {
     "name": "stdout",
     "output_type": "stream",
     "text": [
      "WARNING:tensorflow:From /usr/local/lib/python3.6/dist-packages/keras/backend/tensorflow_backend.py:1033: The name tf.assign_add is deprecated. Please use tf.compat.v1.assign_add instead.\n",
      "\n",
      "WARNING:tensorflow:From /usr/local/lib/python3.6/dist-packages/keras/backend/tensorflow_backend.py:1020: The name tf.assign is deprecated. Please use tf.compat.v1.assign instead.\n",
      "\n",
      "Epoch 1/50\n",
      "9293/9293 [==============================] - 289s 31ms/step - loss: 169.0272 - acc: 0.5395\n",
      "Epoch 2/50\n",
      "9293/9293 [==============================] - 274s 29ms/step - loss: 167.3496 - acc: 0.5408\n",
      "Epoch 3/50\n",
      "9293/9293 [==============================] - 274s 29ms/step - loss: 166.7560 - acc: 0.5429\n",
      "Epoch 4/50\n",
      "9293/9293 [==============================] - 274s 29ms/step - loss: 165.4580 - acc: 0.5498\n",
      "Epoch 5/50\n",
      "9293/9293 [==============================] - 273s 29ms/step - loss: 163.9967 - acc: 0.5550\n",
      "Epoch 6/50\n",
      "9293/9293 [==============================] - 273s 29ms/step - loss: 163.1017 - acc: 0.5582\n",
      "Epoch 7/50\n",
      "9293/9293 [==============================] - 273s 29ms/step - loss: 162.0991 - acc: 0.5593\n",
      "Epoch 8/50\n",
      "9293/9293 [==============================] - 273s 29ms/step - loss: 161.2994 - acc: 0.5637\n",
      "Epoch 9/50\n",
      "9293/9293 [==============================] - 273s 29ms/step - loss: 160.8858 - acc: 0.5632\n",
      "Epoch 10/50\n",
      "9293/9293 [==============================] - 273s 29ms/step - loss: 160.2779 - acc: 0.5621\n",
      "Epoch 11/50\n",
      "9293/9293 [==============================] - 271s 29ms/step - loss: 160.2760 - acc: 0.5629\n",
      "Epoch 12/50\n",
      "9293/9293 [==============================] - 271s 29ms/step - loss: 159.2801 - acc: 0.5652\n",
      "Epoch 13/50\n",
      "9293/9293 [==============================] - 272s 29ms/step - loss: 158.7713 - acc: 0.5673\n",
      "Epoch 14/50\n",
      "9293/9293 [==============================] - 272s 29ms/step - loss: 157.8900 - acc: 0.5690\n",
      "Epoch 15/50\n",
      "9293/9293 [==============================] - 272s 29ms/step - loss: 157.5459 - acc: 0.5678\n",
      "Epoch 16/50\n",
      "9293/9293 [==============================] - 271s 29ms/step - loss: 156.7770 - acc: 0.5689\n",
      "Epoch 17/50\n",
      "9293/9293 [==============================] - 270s 29ms/step - loss: 155.6280 - acc: 0.5715\n",
      "Epoch 18/50\n",
      "9293/9293 [==============================] - 270s 29ms/step - loss: 154.8354 - acc: 0.5749\n",
      "Epoch 19/50\n",
      "9293/9293 [==============================] - 270s 29ms/step - loss: 154.1339 - acc: 0.5731\n",
      "Epoch 20/50\n",
      "9293/9293 [==============================] - 270s 29ms/step - loss: 152.4713 - acc: 0.5784\n",
      "Epoch 21/50\n",
      "9293/9293 [==============================] - 270s 29ms/step - loss: 151.4956 - acc: 0.5785\n",
      "Epoch 22/50\n",
      "9293/9293 [==============================] - 270s 29ms/step - loss: 149.6565 - acc: 0.5808\n",
      "Epoch 23/50\n",
      "9293/9293 [==============================] - 269s 29ms/step - loss: 147.6244 - acc: 0.5821\n",
      "Epoch 24/50\n",
      "9293/9293 [==============================] - 267s 29ms/step - loss: 145.1212 - acc: 0.5835\n",
      "Epoch 25/50\n",
      "9293/9293 [==============================] - 267s 29ms/step - loss: 141.8522 - acc: 0.5876\n",
      "Epoch 26/50\n",
      "9293/9293 [==============================] - 267s 29ms/step - loss: 137.8852 - acc: 0.5928\n",
      "Epoch 27/50\n",
      "9293/9293 [==============================] - 267s 29ms/step - loss: 133.4543 - acc: 0.5945\n",
      "Epoch 28/50\n",
      "9293/9293 [==============================] - 268s 29ms/step - loss: 128.4981 - acc: 0.6004\n",
      "Epoch 29/50\n",
      "9293/9293 [==============================] - 267s 29ms/step - loss: 123.3547 - acc: 0.6064\n",
      "Epoch 30/50\n",
      "9293/9293 [==============================] - 268s 29ms/step - loss: 117.9155 - acc: 0.6106\n",
      "Epoch 31/50\n",
      "9293/9293 [==============================] - 268s 29ms/step - loss: 112.0018 - acc: 0.6190\n",
      "Epoch 32/50\n",
      "9293/9293 [==============================] - 268s 29ms/step - loss: 105.3957 - acc: 0.6243\n",
      "Epoch 33/50\n",
      "9293/9293 [==============================] - 268s 29ms/step - loss: 100.7581 - acc: 0.6304\n",
      "Epoch 34/50\n",
      "9293/9293 [==============================] - 268s 29ms/step - loss: 93.7845 - acc: 0.6418\n",
      "Epoch 35/50\n",
      "9293/9293 [==============================] - 268s 29ms/step - loss: 88.6918 - acc: 0.6493\n",
      "Epoch 36/50\n",
      "9293/9293 [==============================] - 269s 29ms/step - loss: 84.0236 - acc: 0.6554\n",
      "Epoch 37/50\n",
      "9293/9293 [==============================] - 269s 29ms/step - loss: 79.4423 - acc: 0.6640\n",
      "Epoch 38/50\n",
      "9293/9293 [==============================] - 267s 29ms/step - loss: 75.5227 - acc: 0.6733\n",
      "Epoch 39/50\n",
      "9293/9293 [==============================] - 266s 29ms/step - loss: 72.1949 - acc: 0.6791\n",
      "Epoch 40/50\n",
      "9293/9293 [==============================] - 265s 28ms/step - loss: 69.8014 - acc: 0.6854\n",
      "Epoch 41/50\n",
      "9293/9293 [==============================] - 268s 29ms/step - loss: 66.8814 - acc: 0.6920\n",
      "Epoch 42/50\n",
      "4896/9293 [==============>...............] - ETA: 2:07 - loss: 63.7426 - acc: 0.7012"
     ]
    }
   ],
   "source": [
    "model.fit(X, y, epochs=50, batch_size=16)"
   ]
  },
  {
   "cell_type": "markdown",
   "metadata": {
    "colab_type": "text",
    "id": "IrFMSq3uNVae"
   },
   "source": []
  },
  {
   "cell_type": "code",
   "execution_count": 6,
   "metadata": {
    "colab": {
     "base_uri": "https://localhost:8080/",
     "height": 110
    },
    "colab_type": "code",
    "id": "vqLJpHzZUJY2",
    "outputId": "cf182bbd-8a80-49ac-f3b3-8bb375e4f7a6"
   },
   "outputs": [
    {
     "name": "stdout",
     "output_type": "stream",
     "text": [
      "WARNING:tensorflow:From /usr/local/lib/python3.6/dist-packages/keras/backend/tensorflow_backend.py:1033: The name tf.assign_add is deprecated. Please use tf.compat.v1.assign_add instead.\n",
      "\n",
      "WARNING:tensorflow:From /usr/local/lib/python3.6/dist-packages/keras/backend/tensorflow_backend.py:1020: The name tf.assign is deprecated. Please use tf.compat.v1.assign instead.\n",
      "\n"
     ]
    }
   ],
   "source": [
    "from keras.models import load_model\n",
    "model = load_model('drive/My Drive/app/fifty_epochs.h5')"
   ]
  },
  {
   "cell_type": "code",
   "execution_count": 13,
   "metadata": {
    "colab": {
     "base_uri": "https://localhost:8080/",
     "height": 306
    },
    "colab_type": "code",
    "id": "lTwlh8yQ36An",
    "outputId": "07c186e0-363d-4282-90c0-bf962c051e49"
   },
   "outputs": [
    {
     "name": "stderr",
     "output_type": "stream",
     "text": [
      "Clipping input data to the valid range for imshow with RGB data ([0..1] for floats or [0..255] for integers).\n"
     ]
    },
    {
     "data": {
      "text/plain": [
       "<matplotlib.image.AxesImage at 0x7fa0060ed2e8>"
      ]
     },
     "execution_count": 13,
     "metadata": {
      "tags": []
     },
     "output_type": "execute_result"
    },
    {
     "data": {
      "image/png": "[encoded data removed]",
      "text/plain": [
       "<Figure size 432x288 with 1 Axes>"
      ]
     },
     "metadata": {
      "tags": []
     },
     "output_type": "display_data"
    }
   ],
   "source": [
    "import matplotlib.pyplot as plt\n",
    "import numpy as np\n",
    "import skimage.io\n",
    "import cv2\n",
    "\n",
    "\n",
    "def separate_channel(img_rgb):\n",
    "    img_lab = skimage.color.rgb2lab(img_rgb)\n",
    "    l, a, b = cv2.split(img_lab)\n",
    "    return l,a,b\n",
    "\n",
    "img = skimage.io.imread('drive/My Drive/app/Test/641kuT.jpg')\n",
    "img = cv2.resize(img, (128,128), interpolation= cv2.INTER_LANCZOS4)\n",
    "\n",
    "l1,_,_ = separate_channel(img)\n",
    "\n",
    "\n",
    "\n",
    "pred = model.predict(l1.reshape(1,128,128,1))\n",
    "\n",
    "\n",
    "arr = np.zeros((1,128,128,3))\n",
    "for hei in range(len(pred[0])):\n",
    "    for wid in range(len(pred[0][0])):\n",
    "        arr[0][hei][wid] = np.array([l1[hei][wid], pred[0][hei][wid][0], pred[0][hei][wid][1]])\n",
    "\n",
    "\n",
    "\n",
    "img_rgb = skimage.color.lab2rgb(arr[0])\n",
    "img_rgb = cv2.resize(img_rgb, (256,256), interpolation= cv2.INTER_LANCZOS4)\n",
    "\n",
    "plt.imshow(img_rgb)\n",
    "\n"
   ]
  },
  {
   "cell_type": "code",
   "execution_count": 0,
   "metadata": {
    "colab": {},
    "colab_type": "code",
    "id": "OqiFA-omJ5Nf"
   },
   "outputs": [],
   "source": []
  }
 ],
 "metadata": {
  "accelerator": "GPU",
  "colab": {
   "collapsed_sections": [],
   "include_colab_link": true,
   "name": "CNN_Model.ipynb",
   "provenance": []
  },
  "kernelspec": {
   "display_name": "Python 3",
   "language": "python",
   "name": "python3"
  },
  "language_info": {
   "codemirror_mode": {
    "name": "ipython",
    "version": 3
   },
   "file_extension": ".py",
   "mimetype": "text/x-python",
   "name": "python",
   "nbconvert_exporter": "python",
   "pygments_lexer": "ipython3",
   "version": "3.6.6"
  }
 },
 "nbformat": 4,
 "nbformat_minor": 1
}
