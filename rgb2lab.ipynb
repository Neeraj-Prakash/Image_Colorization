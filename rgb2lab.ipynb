{
 "cells": [
  {
   "cell_type": "code",
   "execution_count": 1,
   "metadata": {},
   "outputs": [],
   "source": [
    "import cv2\n",
    "import matplotlib.pyplot as plt\n",
    "import numpy as np\n",
    "import skimage.io\n",
    "img_bgr = cv2.imread('/Users/satyamsovan123/Desktop/8th Sem Project/Dataset/images/Train/0Bwa2J.jpg') #path \n",
    "\n",
    "#-----direct bgr to lab-----\n",
    "#img_lab = cv2.cvtColor(img_rgb,cv2.COLOR_BGR2LAB)\n",
    "#plt.imshow(img_lab)\n",
    "#print(img_lab)\n",
    "\n",
    "#-------convert bgr to rgb then rgb to lab-------\n",
    "#img_rgb = cv2.cvtColor(img_bgr,cv2.COLOR_BGR2RGB)\n",
    "#img_lab = cv2.cvtColor(img_rgb,cv2.COLOR_RGB2LAB)\n",
    "#plt.imshow(img_lab)\n",
    "#print(img_lab)\n",
    "\n",
    "#https://stackoverflow.com/questions/52767317/how-to-convert-rgb-image-pixels-to-lab\n",
    "#-------driect using skimage----------\n",
    "img_rgb = skimage.io.imread('/Users/satyamsovan123/Desktop/8th Sem Project/Dataset/images/Train/0Bwa2J.jpg')\n",
    "#plt.imshow(img)\n",
    "img_lab=skimage.color.rgb2lab(img_rgb)\n",
    "#plt.imshow(img_lab)\n",
    "#print(img_lab)\n",
    "\n",
    "\n",
    "\n",
    "#the above codes results in same output"
   ]
  },
  {
   "cell_type": "code",
   "execution_count": null,
   "metadata": {},
   "outputs": [],
   "source": [
    "#https://stackoverflow.com/questions/40586276/unexpected-output-while-converting-rgb-image-to-lab-image\n",
    "#https://www.youtube.com/watch?v=kB2q0thrCTw\n",
    "import cv2\n",
    "import matplotlib.pyplot as plt\n",
    "import numpy as np\n",
    "org = np.float32(cv2.imread('/Users/satyamsovan123/Desktop/8th Sem Project/Dataset/images/Train/0Bwa2J.jpg', -1))/255\n",
    "img_lab = cv2.cvtColor(org, cv2.COLOR_BGR2LAB)\n",
    "#plt.imshow(lab_image)\n",
    "l, a, b = cv2.split(lab_image)\n",
    "plt.imshow(img_lab)\n",
    "#a_scaled = np.uint8(255.*(a - a.min())/(a.max() - a.min()))\n",
    "#plt.imshow(a_scaled)\n",
    "#print(img_lab)"
   ]
  }
 ],
 "metadata": {
  "kernelspec": {
   "display_name": "Python 3",
   "language": "python",
   "name": "python3"
  },
  "language_info": {
   "codemirror_mode": {
    "name": "ipython",
    "version": 3
   },
   "file_extension": ".py",
   "mimetype": "text/x-python",
   "name": "python",
   "nbconvert_exporter": "python",
   "pygments_lexer": "ipython3",
   "version": "3.7.2"
  }
 },
 "nbformat": 4,
 "nbformat_minor": 2
}
